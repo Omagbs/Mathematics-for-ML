{
 "cells": [
  {
   "cell_type": "markdown",
   "id": "82c08a72-5e4e-44f5-b1e9-118b344431cb",
   "metadata": {},
   "source": [
    "#  Definition of Matrix Multiplication\r\n",
    "\r\n",
    "If $A$ is an $m \\times n$ matrix and $B$ is an $n \\times p$ matrix, the matrix product $C = AB$ (denoted without multiplication signs or dots) is defined to be the $m \\times p$ matrix such that \r\n",
    "$c_{ij}=a_{i1}b_{1j}+a_{i2}b_{2j}+\\ldots+a_{in}b_{nj}=\\sum_{k=1}^{n} a_{ik}b_{kj}, \\tag{4}$\r\n",
    "\r\n",
    "where $a_{ik}$ are the elements of matrix $A$, $b_{kj}$ are the elements of matrix $B$, and $i = 1, \\ldots, m$, $k=1, \\ldots, n$, $j = 1, \\ldots, p$. In other words, $c_{ij}$ is the dot product of the $i$-th row of $A$ and the $j$-th column of $B$."
   ]
  },
  {
   "cell_type": "code",
   "execution_count": 2,
   "id": "f6736281-1e9b-4ba8-a407-4a56e3c4ea81",
   "metadata": {},
   "outputs": [
    {
     "name": "stdout",
     "output_type": "stream",
     "text": [
      "Matrix A is a (3 x 3) \n",
      " [[4 9 9]\n",
      " [9 1 6]\n",
      " [9 2 3]]\n",
      "Matrix A is a (3 x 2) \n",
      " [[2 2]\n",
      " [5 7]\n",
      " [4 4]]\n"
     ]
    }
   ],
   "source": [
    "import numpy as np\n",
    "A = np.array([[4,9,9],[9,1,6],[9,2,3]])\n",
    "print(\"Matrix A is a (3 x 3) \\n\", A)\n",
    "\n",
    "B = np.array([[2,2],[5,7],[4,4]])\n",
    "print(\"Matrix A is a (3 x 2) \\n\", B)"
   ]
  },
  {
   "cell_type": "markdown",
   "id": "04f342de-eb39-42ca-be46-900535eeaafa",
   "metadata": {},
   "source": [
    "now multiplying A and B using `np.matmul()` or `@`"
   ]
  },
  {
   "cell_type": "code",
   "execution_count": 3,
   "id": "ef221372-21f9-423b-865f-2ccc6805bfad",
   "metadata": {},
   "outputs": [
    {
     "data": {
      "text/plain": [
       "array([[ 89, 107],\n",
       "       [ 47,  49],\n",
       "       [ 40,  44]])"
      ]
     },
     "execution_count": 3,
     "metadata": {},
     "output_type": "execute_result"
    }
   ],
   "source": [
    "np.matmul(A,B)"
   ]
  },
  {
   "cell_type": "code",
   "execution_count": 4,
   "id": "99ed33f5-aeb3-4342-9cae-7ee7d9e23d4d",
   "metadata": {},
   "outputs": [
    {
     "data": {
      "text/plain": [
       "array([[ 89, 107],\n",
       "       [ 47,  49],\n",
       "       [ 40,  44]])"
      ]
     },
     "execution_count": 4,
     "metadata": {},
     "output_type": "execute_result"
    }
   ],
   "source": [
    "A @ B"
   ]
  },
  {
   "cell_type": "markdown",
   "id": "d9af0d5f-3d87-400e-b36d-c74f1c7c673e",
   "metadata": {},
   "source": [
    "### Matrix Convention and Broadcasting"
   ]
  },
  {
   "cell_type": "markdown",
   "id": "aa7e9319-e18c-4043-8bf5-1bad9f3da82a",
   "metadata": {},
   "source": [
    "Mathemically, Matrix multiplication can only occur if the `column of matrix A` correspond to the `row of matrix B`\n",
    "\n",
    "Let's switch the above matrix and see what happens. $BA$"
   ]
  },
  {
   "cell_type": "code",
   "execution_count": 6,
   "id": "2ef2da2d-9658-436b-aad9-581ae58a84ba",
   "metadata": {},
   "outputs": [
    {
     "name": "stdout",
     "output_type": "stream",
     "text": [
      "matmul: Input operand 1 has a mismatch in its core dimension 0, with gufunc signature (n?,k),(k,m?)->(n?,m?) (size 3 is different from 2)\n"
     ]
    }
   ],
   "source": [
    "try:\n",
    "    np.matmul(B,A)\n",
    "except ValueError as err:\n",
    "    print(err)"
   ]
  },
  {
   "cell_type": "code",
   "execution_count": null,
   "id": "94505329-5a85-4702-a551-b1b9756a1221",
   "metadata": {},
   "outputs": [],
   "source": []
  }
 ],
 "metadata": {
  "kernelspec": {
   "display_name": "Python 3 (ipykernel)",
   "language": "python",
   "name": "python3"
  },
  "language_info": {
   "codemirror_mode": {
    "name": "ipython",
    "version": 3
   },
   "file_extension": ".py",
   "mimetype": "text/x-python",
   "name": "python",
   "nbconvert_exporter": "python",
   "pygments_lexer": "ipython3",
   "version": "3.11.7"
  }
 },
 "nbformat": 4,
 "nbformat_minor": 5
}
