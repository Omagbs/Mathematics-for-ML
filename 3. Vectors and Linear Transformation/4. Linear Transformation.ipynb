{
 "cells": [
  {
   "cell_type": "markdown",
   "id": "09dc173a-a131-471d-9bf0-17cc098837e4",
   "metadata": {},
   "source": [
    "## 1 - Transformations\n",
    "\n",
    "A **transformation** is a function from one vector space to another that respects the underlying (linear) structure of each vector space. Referring to a specific transformation, you can use a symbol, such as $T$. Specifying the spaces containing the input and output vectors, e.g. $\\mathbb{R}^2$ and $\\mathbb{R}^3$, you can write $T: \\mathbb{R}^2 \\rightarrow \\mathbb{R}^3$. Transforming vector $v \\in \\mathbb{R}^2$ into the vector $w\\in\\mathbb{R}^3$ by the transformation $T$, you can use the notation $T(v)=w$ and read it as \"*T of v equals to w*\" or \"*vector w is an **image** of vector v with the transformation T*\".\n",
    "\n",
    "The following Python function corresponds to the transformation $T: \\mathbb{R}^2 \\rightarrow \\mathbb{R}^3$ with the following symbolic formula:\n",
    "$$T\\begin{pmatrix}\r\n",
    "          \\begin{bmatrix}\r\n",
    "           v_1 \\\\           \r\n",
    "           v_2\r\n",
    "          \\end{bmatrix}\\end{pmatrix}=\r\n",
    "          \\begin{bmatrix}\r\n",
    "           3v_1 \\\\\r\n",
    "           0 \\\\\r\n",
    "           -2v_2\r\n",
    "          \\end{bmatrix}\r\n",
    "          \\tag{1}\r\n",
    "          $$"
   ]
  },
  {
   "cell_type": "code",
   "execution_count": 1,
   "id": "ed8bfae8-a630-4cad-a978-69c7700db82b",
   "metadata": {},
   "outputs": [],
   "source": [
    "import numpy as np"
   ]
  },
  {
   "cell_type": "code",
   "execution_count": 2,
   "id": "4857ca44-84b9-4362-9575-af50a9c19661",
   "metadata": {},
   "outputs": [
    {
     "name": "stdout",
     "output_type": "stream",
     "text": [
      "Original vector: \n",
      " [[3]\n",
      " [5]] \n",
      "\n",
      " Result of the transformation: \n",
      " [[  9.]\n",
      " [  0.]\n",
      " [-10.]]\n"
     ]
    }
   ],
   "source": [
    "def T(v):\n",
    "    w = np.zeros((3,1))\n",
    "    w[0,0] = 3 * v[0,0]\n",
    "    w[2,0] = -2 * v[1,0]\n",
    "    return w\n",
    "\n",
    "v = np.array([[3], [5]])\n",
    "w = T(v)\n",
    "\n",
    "print(\"Original vector: \\n\", v, \"\\n\\n Result of the transformation: \\n\", w)\n",
    "    "
   ]
  },
  {
   "cell_type": "code",
   "execution_count": null,
   "id": "418d6498-c7c7-4e94-93bd-0884302bd89a",
   "metadata": {},
   "outputs": [],
   "source": []
  }
 ],
 "metadata": {
  "kernelspec": {
   "display_name": "Python 3 (ipykernel)",
   "language": "python",
   "name": "python3"
  },
  "language_info": {
   "codemirror_mode": {
    "name": "ipython",
    "version": 3
   },
   "file_extension": ".py",
   "mimetype": "text/x-python",
   "name": "python",
   "nbconvert_exporter": "python",
   "pygments_lexer": "ipython3",
   "version": "3.11.7"
  }
 },
 "nbformat": 4,
 "nbformat_minor": 5
}
