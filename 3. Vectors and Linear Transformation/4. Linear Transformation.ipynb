{
 "cells": [
  {
   "cell_type": "markdown",
   "id": "09dc173a-a131-471d-9bf0-17cc098837e4",
   "metadata": {},
   "source": [
    "## 1 - Transformations\n",
    "\n",
    "A **transformation** is a function from one vector space to another that respects the underlying (linear) structure of each vector space. Referring to a specific transformation, you can use a symbol, such as $T$. Specifying the spaces containing the input and output vectors, e.g. $\\mathbb{R}^2$ and $\\mathbb{R}^3$, you can write $T: \\mathbb{R}^2 \\rightarrow \\mathbb{R}^3$. Transforming vector $v \\in \\mathbb{R}^2$ into the vector $w\\in\\mathbb{R}^3$ by the transformation $T$, you can use the notation $T(v)=w$ and read it as \"*T of v equals to w*\" or \"*vector w is an **image** of vector v with the transformation T*\".\n",
    "\n",
    "The following Python function corresponds to the transformation $T: \\mathbb{R}^2 \\rightarrow \\mathbb{R}^3$ with the following symbolic formula:\n",
    "$$T\\begin{pmatrix}\r\n",
    "          \\begin{bmatrix}\r\n",
    "           v_1 \\\\           \r\n",
    "           v_2\r\n",
    "          \\end{bmatrix}\\end{pmatrix}=\r\n",
    "          \\begin{bmatrix}\r\n",
    "           3v_1 \\\\\r\n",
    "           0 \\\\\r\n",
    "           -2v_2\r\n",
    "          \\end{bmatrix}\r\n",
    "          \\tag{1}\r\n",
    "          $$"
   ]
  },
  {
   "cell_type": "code",
   "execution_count": 1,
   "id": "ed8bfae8-a630-4cad-a978-69c7700db82b",
   "metadata": {},
   "outputs": [],
   "source": [
    "import numpy as np"
   ]
  },
  {
   "cell_type": "code",
   "execution_count": 2,
   "id": "4857ca44-84b9-4362-9575-af50a9c19661",
   "metadata": {},
   "outputs": [
    {
     "name": "stdout",
     "output_type": "stream",
     "text": [
      "Original vector: \n",
      " [[3]\n",
      " [5]] \n",
      "\n",
      " Result of the transformation: \n",
      " [[  9.]\n",
      " [  0.]\n",
      " [-10.]]\n"
     ]
    }
   ],
   "source": [
    "def T(v):\n",
    "    w = np.zeros((3,1))\n",
    "    w[0,0] = 3 * v[0,0]\n",
    "    w[2,0] = -2 * v[1,0]\n",
    "    return w\n",
    "\n",
    "v = np.array([[3], [5]])\n",
    "w = T(v)\n",
    "\n",
    "print(\"Original vector: \\n\", v, \"\\n\\n Result of the transformation: \\n\", w)\n",
    "    "
   ]
  },
  {
   "cell_type": "markdown",
   "id": "628ca75a-cd75-4e2e-8940-86179a9600fc",
   "metadata": {},
   "source": [
    "<a name='2'></a>\n",
    "## 2 - Linear Transformations\n",
    "\n",
    "A transformation $T$ is said to be **linear** if the following two properties are true for any scalar $k$, and any input vectors $u$ and $v$:\n",
    "\n",
    "1. $T(kv)=kT(v)$,\n",
    "2. $T(u+v)=T(u)+T(v)$.\n",
    "\n",
    "In the example above $T$ is a linear transformation:\n",
    "\n",
    "$$T (kv) =\n",
    "          T \\begin{pmatrix}\\begin{bmatrix}\n",
    "          kv_1 \\\\\n",
    "          kv_2\n",
    "          \\end{bmatrix}\\end{pmatrix} = \n",
    "          \\begin{bmatrix}\n",
    "           3kv_1 \\\\\n",
    "           0 \\\\\n",
    "           -2kv_2\n",
    "          \\end{bmatrix} =\n",
    "          k\\begin{bmatrix}\n",
    "           3v_1 \\\\\n",
    "           0 \\\\\n",
    "           -2v_2\n",
    "          \\end{bmatrix} = \n",
    "          kT(v),\\tag{2}$$\n",
    "          \n",
    "$$T (u+v) =\n",
    "          T \\begin{pmatrix}\\begin{bmatrix}\n",
    "          u_1 + v_1 \\\\\n",
    "          u_2 + v_2\n",
    "          \\end{bmatrix}\\end{pmatrix} = \n",
    "          \\begin{bmatrix}\n",
    "           3(u_1+v_1) \\\\\n",
    "           0 \\\\\n",
    "           -2(u_2+v_2)\n",
    "          \\end{bmatrix} = \n",
    "          \\begin{bmatrix}\n",
    "           3u_1 \\\\\n",
    "           0 \\\\\n",
    "           -2u_2\n",
    "          \\end{bmatrix} +\n",
    "          \\begin{bmatrix}\n",
    "           3v_1 \\\\\n",
    "           0 \\\\\n",
    "           -2v_2\n",
    "          \\end{bmatrix} = \n",
    "          T(u)+T(v).\\tag{3}$$"
   ]
  },
  {
   "cell_type": "code",
   "execution_count": 3,
   "id": "4cb78c0c-c383-42ed-993c-9d369d6e2116",
   "metadata": {},
   "outputs": [
    {
     "name": "stdout",
     "output_type": "stream",
     "text": [
      "T(k*v): \n",
      " [[ 42.]\n",
      " [  0.]\n",
      " [-56.]] \n",
      " K*T(v):\n",
      " [[ 42.]\n",
      " [  0.]\n",
      " [-56.]] \n",
      "\n",
      "\n"
     ]
    }
   ],
   "source": [
    "u = np.array([[1],[-2]])\n",
    "v = np.array([[2], [4]])\n",
    "k = 7\n",
    "\n",
    "print(\"T(k*v): \\n\", T(k*v), \"\\n K*T(v):\\n\", k*T(v), \"\\n\\n\")"
   ]
  },
  {
   "cell_type": "code",
   "execution_count": null,
   "id": "5d0c1cb1-b9b3-466f-840e-25ccdd0f19dd",
   "metadata": {},
   "outputs": [],
   "source": [
    "print (\"T(u+v): \\n\", T(u+v), \"\\n T(u) + T(v)\\n\""
   ]
  }
 ],
 "metadata": {
  "kernelspec": {
   "display_name": "Python 3 (ipykernel)",
   "language": "python",
   "name": "python3"
  },
  "language_info": {
   "codemirror_mode": {
    "name": "ipython",
    "version": 3
   },
   "file_extension": ".py",
   "mimetype": "text/x-python",
   "name": "python",
   "nbconvert_exporter": "python",
   "pygments_lexer": "ipython3",
   "version": "3.11.7"
  }
 },
 "nbformat": 4,
 "nbformat_minor": 5
}
