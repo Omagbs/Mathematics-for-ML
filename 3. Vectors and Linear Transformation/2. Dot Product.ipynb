{
 "cells": [
  {
   "cell_type": "markdown",
   "id": "ec6c4e7a-0ff1-4d5d-908a-6136447cac4c",
   "metadata": {},
   "source": [
    "# Dot Product\n",
    "### Algebraic Definition of the Dot Product\n",
    "The **dot product** (or **scalar product**) is an algebraic operation that takes two vectors $x=\\begin{bmatrix}\r\n",
    "          x_1 & x_2 & \\ldots & x_n \r\n",
    "\\end{bmatrix}^T\\in\\mathbb{R}^n$ and  \r\n",
    "$y=\\begin{bmatrix}\r\n",
    "          y_1 & y_2 & \\ldots & y_n \r\n",
    "\\end{bmatrix}^T\\in\\mathbb{R}^n$ and returns a single scalar. The dot product can be represented with a dot operator $x\\cdot y$ and defined as:\r\n",
    "\r\n",
    "$$x\\cdot y = \\sum_{i=1}^{n} x_iy_i = x_1y_1+x_2y_2+\\ldots+x_ny_n \\tag{1}$$"
   ]
  },
  {
   "cell_type": "markdown",
   "id": "9413ec35-871c-4f20-9e12-0baf5ed02fd9",
   "metadata": {},
   "source": [
    "**Dot Product using python**"
   ]
  },
  {
   "cell_type": "code",
   "execution_count": 2,
   "id": "d9731bea-d429-4802-9f0f-55f3e98457ce",
   "metadata": {},
   "outputs": [],
   "source": [
    "import numpy as np"
   ]
  },
  {
   "cell_type": "code",
   "execution_count": 3,
   "id": "4f92b113-d922-4089-b47d-b1d44b4cf90c",
   "metadata": {},
   "outputs": [],
   "source": [
    "x = [-1, -2, -5]\n",
    "y = [4, 3, -1]"
   ]
  },
  {
   "cell_type": "markdown",
   "id": "3ba56612-9366-49be-a7e0-841ed84ffaf2",
   "metadata": {},
   "source": [
    "define the function dot(x, y)"
   ]
  },
  {
   "cell_type": "code",
   "execution_count": 4,
   "id": "3986bf10-3c7d-4739-a395-5cbd4252b0db",
   "metadata": {},
   "outputs": [],
   "source": [
    "def dot(x, y):\n",
    "    s = 0\n",
    "    for xi, yi in zip(x, y):\n",
    "        s += xi *yi\n",
    "    return s"
   ]
  },
  {
   "cell_type": "code",
   "execution_count": 5,
   "id": "97a45c49-8ee7-495a-996a-d746ac2e3c1e",
   "metadata": {},
   "outputs": [
    {
     "name": "stdout",
     "output_type": "stream",
     "text": [
      "The dot product of x and y is  -5\n"
     ]
    }
   ],
   "source": [
    "print(\"The dot product of x and y is \", dot(x, y))"
   ]
  },
  {
   "cell_type": "markdown",
   "id": "69b65997-9f78-4aa1-819f-a8cd265dc8c5",
   "metadata": {},
   "source": [
    "We can also use the np.dot() function from the Numpy library "
   ]
  },
  {
   "cell_type": "code",
   "execution_count": 6,
   "id": "bfc7e72c-f237-4525-b4a2-2f6105971814",
   "metadata": {},
   "outputs": [
    {
     "name": "stdout",
     "output_type": "stream",
     "text": [
      "Using the np.dot(), the dot product of x and y is  -5\n"
     ]
    }
   ],
   "source": [
    "print(\"Using the np.dot(), the dot product of x and y is \", np.dot(x, y))"
   ]
  },
  {
   "cell_type": "markdown",
   "id": "af3fefcb-5a8c-450b-be04-34438e5e252b",
   "metadata": {},
   "source": [
    "You can also use an explicit operator @ for the dot product, which can be applied using Numpy arrays"
   ]
  },
  {
   "cell_type": "code",
   "execution_count": 7,
   "id": "29bb2210-b6e4-4c67-915e-c01445de6b04",
   "metadata": {},
   "outputs": [
    {
     "name": "stdout",
     "output_type": "stream",
     "text": [
      "The dot product of x and y is  -5\n",
      "\n",
      " This line output is an error:\n",
      "unsupported operand type(s) for @: 'list' and 'list'\n"
     ]
    }
   ],
   "source": [
    "print(\"The dot product of x and y is \", np.array(x) @ np.array(y))\n",
    "\n",
    "print(\"\\n This line output is an error:\")\n",
    "try: print(x@y)\n",
    "except TypeError as err:\n",
    "    print(err)"
   ]
  },
  {
   "cell_type": "markdown",
   "id": "a1d5fcf2-6da1-4aac-903c-1070b39d72ed",
   "metadata": {},
   "source": [
    "it is best to redifine x and y in numpy to avoid errors with `np.dot()` and `@`"
   ]
  },
  {
   "cell_type": "code",
   "execution_count": 8,
   "id": "1cacff6b-1672-4dc9-9d30-aa0e3a52c1f6",
   "metadata": {},
   "outputs": [],
   "source": [
    "x = np.array(x)\n",
    "y = np.array(y)"
   ]
  },
  {
   "cell_type": "markdown",
   "id": "40325cb5-1198-491f-8b38-e3e13abb0cf5",
   "metadata": {},
   "source": [
    "### Speed of Calculation in Vectorized form\n",
    "\n",
    "Dot products are often used in ML to work on very large vectros with up to hundreds and thousands of coordinates (called **Higher Dimensional vectors**)\n",
    "The speed of calculating the dot product of a matrix using a loop function is slower than using the vectorized parallel. i.e `dot()` vs `np.dot()` "
   ]
  },
  {
   "cell_type": "markdown",
   "id": "e27aeb1b-c30e-4109-b452-2180affb5714",
   "metadata": {},
   "source": [
    "so to test this, let's define new vectors a and b of size 1,000,000"
   ]
  },
  {
   "cell_type": "code",
   "execution_count": 9,
   "id": "ec312c1d-4ba9-4388-8823-927b69bad3da",
   "metadata": {},
   "outputs": [],
   "source": [
    "a = np.random.rand(1000000)\n",
    "b = np.random.rand(1000000)"
   ]
  },
  {
   "cell_type": "markdown",
   "id": "1e5aacd6-7177-4fa7-8252-37b34374633e",
   "metadata": {},
   "source": [
    "using the time.time() to evaluate function dot(x,y)"
   ]
  },
  {
   "cell_type": "code",
   "execution_count": 12,
   "id": "ee58d196-836f-4423-af1e-8ddc956ea762",
   "metadata": {},
   "outputs": [
    {
     "name": "stdout",
     "output_type": "stream",
     "text": [
      "Dot Product:  250117.73553275125\n",
      "Time for the loop version: 500.6744861602783 ms\n"
     ]
    }
   ],
   "source": [
    "import time \n",
    "\n",
    "# time before start\n",
    "tic = time.time() \n",
    "\n",
    "c = dot(a,b)\n",
    "\n",
    "#time at end\n",
    "toc = time.time()\n",
    "\n",
    "print(\"Dot Product: \", c)\n",
    "print(\"Time for the loop version: \" + str(1000*(toc - tic)) + \" ms\")"
   ]
  },
  {
   "cell_type": "markdown",
   "id": "b6f6ca2e-3b73-4828-805d-140b1149a3d5",
   "metadata": {},
   "source": [
    "Now this time, trying for the vectorized dot product"
   ]
  },
  {
   "cell_type": "code",
   "execution_count": 13,
   "id": "c75a7bfc-4ad0-492a-840e-598abcb6ac36",
   "metadata": {},
   "outputs": [
    {
     "name": "stdout",
     "output_type": "stream",
     "text": [
      "Dot Product:  250117.7355327463\n",
      "Time for the vectorized version: 363.88683319091797 ms\n"
     ]
    }
   ],
   "source": [
    "tic = time.time()\n",
    "c = np.dot(a, b)\n",
    "toc = time.time()\n",
    "\n",
    "print(\"Dot Product: \", c)\n",
    "print(\"Time for the vectorized version: \" + str(1000*(toc - tic)) + \" ms\")"
   ]
  },
  {
   "cell_type": "code",
   "execution_count": null,
   "id": "7bb96d65-9fe8-4e21-be51-91a5cfc036c2",
   "metadata": {},
   "outputs": [],
   "source": []
  }
 ],
 "metadata": {
  "kernelspec": {
   "display_name": "Python 3 (ipykernel)",
   "language": "python",
   "name": "python3"
  },
  "language_info": {
   "codemirror_mode": {
    "name": "ipython",
    "version": 3
   },
   "file_extension": ".py",
   "mimetype": "text/x-python",
   "name": "python",
   "nbconvert_exporter": "python",
   "pygments_lexer": "ipython3",
   "version": "3.11.7"
  }
 },
 "nbformat": 4,
 "nbformat_minor": 5
}
