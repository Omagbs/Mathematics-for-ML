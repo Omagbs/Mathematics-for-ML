{
 "cells": [
  {
   "cell_type": "markdown",
   "id": "e1b9e8e1-678e-47e8-b20a-fd63f46dc3b0",
   "metadata": {},
   "source": [
    "# Solving System of Linear Equations using Elimination Method\n",
    "Recall our equation:\n",
    "\\begin{align}\n",
    "-x_{1} + 3x_{2} &=7 \\\\ 3x_{1} + 2x_{2} &=1 \\tag{1} \\end{align}"
   ]
  },
  {
   "cell_type": "code",
   "execution_count": 2,
   "id": "309fa2ec-7fb5-4c9b-a7ac-973ad9b78b17",
   "metadata": {},
   "outputs": [],
   "source": [
    "import numpy as np\n",
    "A = np.array([[-1, 3],[3, 2]], dtype = np.dtype(float))\n",
    "b = np.array([7, 1], dtype = np.dtype(float))"
   ]
  },
  {
   "cell_type": "markdown",
   "id": "ce60d4eb-e13b-496b-8f4e-40a8a1cb383f",
   "metadata": {},
   "source": [
    "Now, for Elimination Method we stack the matrix."
   ]
  },
  {
   "cell_type": "code",
   "execution_count": 6,
   "id": "ca090c4f-2879-4fe2-8e2e-f0188535c7aa",
   "metadata": {},
   "outputs": [
    {
     "name": "stdout",
     "output_type": "stream",
     "text": [
      "[[-1.  3.  7.]\n",
      " [ 3.  2.  1.]]\n"
     ]
    }
   ],
   "source": [
    "A_system = np.hstack((A, b.reshape(2, 1)))\n",
    "print(A_system)"
   ]
  },
  {
   "cell_type": "markdown",
   "id": "3cb7fecb-cbe4-4591-ad90-6b0ab7e549c2",
   "metadata": {},
   "source": [
    "To Solve, we copy the oringal one first"
   ]
  },
  {
   "cell_type": "code",
   "execution_count": 7,
   "id": "11de2ef3-6a54-4011-9524-a5d17dc57b39",
   "metadata": {},
   "outputs": [],
   "source": [
    "A_system_res = A_system.copy()"
   ]
  },
  {
   "cell_type": "markdown",
   "id": "f6c3b3a6-0a91-435d-af0b-bb8590804d66",
   "metadata": {},
   "source": [
    "Multiply the first row by 3 and add it to the second row, then store it in the second row of the system"
   ]
  },
  {
   "cell_type": "code",
   "execution_count": 8,
   "id": "72f9328e-53aa-40a8-805a-3f627ebf6f23",
   "metadata": {},
   "outputs": [
    {
     "name": "stdout",
     "output_type": "stream",
     "text": [
      "[[-1.  3.  7.]\n",
      " [ 0. 11. 22.]]\n"
     ]
    }
   ],
   "source": [
    "A_system_res[1] = A_system_res[0] * 3 + A_system_res[1]\n",
    "print(A_system_res)"
   ]
  },
  {
   "cell_type": "markdown",
   "id": "b837ddca-3749-4735-8f1d-f0a77bd63a7c",
   "metadata": {},
   "source": [
    "Multiiply second row by 1/11"
   ]
  },
  {
   "cell_type": "code",
   "execution_count": 10,
   "id": "6a1880de-2510-4840-89ab-2f667a28cd62",
   "metadata": {},
   "outputs": [
    {
     "name": "stdout",
     "output_type": "stream",
     "text": [
      "[[-1.  3.  7.]\n",
      " [ 0.  1.  2.]]\n"
     ]
    }
   ],
   "source": [
    "A_system_res[1] = 1/11 * A_system_res[1]\n",
    "print(A_system_res)"
   ]
  },
  {
   "cell_type": "code",
   "execution_count": null,
   "id": "43d16492-79ff-4078-9c73-9380d03e4fa4",
   "metadata": {},
   "outputs": [],
   "source": []
  }
 ],
 "metadata": {
  "kernelspec": {
   "display_name": "Python 3 (ipykernel)",
   "language": "python",
   "name": "python3"
  },
  "language_info": {
   "codemirror_mode": {
    "name": "ipython",
    "version": 3
   },
   "file_extension": ".py",
   "mimetype": "text/x-python",
   "name": "python",
   "nbconvert_exporter": "python",
   "pygments_lexer": "ipython3",
   "version": "3.11.7"
  }
 },
 "nbformat": 4,
 "nbformat_minor": 5
}
