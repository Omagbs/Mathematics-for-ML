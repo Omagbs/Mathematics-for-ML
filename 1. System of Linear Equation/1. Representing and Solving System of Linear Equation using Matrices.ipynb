{
 "cells": [
  {
   "cell_type": "markdown",
   "id": "efd59fd6-3f5b-4bc0-81f4-d73a05b2be3b",
   "metadata": {},
   "source": [
    "# Representing and Solving System of Linear Equation using Matrices\n",
    "`Numpy` library provides a linear algerbra package that is a quick way to solve the system of linear equations.\n",
    "`np.linalg.solve(A,b)`:\n",
    "- Where **A** is a matrix with each row representing one equation in the system and each column correspondinf to the variable $x_1, x_2$\n",
    "- Where **b** is a 1-D array of the (right side) co-effiecients.\n",
    "\n",
    "so with the equation: \\begin{align} -x_{1} + 3x_{2} &= 7 \\\\ 3x_{1} + 2x_{2} &= 1 \\tag{1} \\end{align}"
   ]
  },
  {
   "cell_type": "markdown",
   "id": "f26784ac-3e07-428b-a8da-82602ea627fd",
   "metadata": {},
   "source": [
    "Transforming the equation into matrix:"
   ]
  },
  {
   "cell_type": "code",
   "execution_count": 6,
   "id": "8c9bbe12-46c1-469a-88d3-e100229e1f58",
   "metadata": {},
   "outputs": [
    {
     "name": "stdout",
     "output_type": "stream",
     "text": [
      "Matrix A:\n",
      " [[-1.  3.]\n",
      " [ 3.  2.]]\n",
      "MAtrix b:\n",
      " [7. 1.]\n"
     ]
    }
   ],
   "source": [
    "import numpy as np\n",
    "A = np.array([[-1, 3],[3, 2]], dtype = np.dtype(float))\n",
    "b = np.array([7, 1], dtype = np.dtype(float))\n",
    "\n",
    "print(\"Matrix A:\\n\", A)\n",
    "print(\"MAtrix b:\\n\", b)"
   ]
  },
  {
   "cell_type": "markdown",
   "id": "14ca3eee-15f3-480f-93aa-10ae22a1dbad",
   "metadata": {},
   "source": [
    "Now to solve the equation:"
   ]
  },
  {
   "cell_type": "code",
   "execution_count": 7,
   "id": "be5058d5-16a4-433b-8c7c-280ec594d614",
   "metadata": {},
   "outputs": [
    {
     "name": "stdout",
     "output_type": "stream",
     "text": [
      "Solution: [-1.  2.]\n"
     ]
    }
   ],
   "source": [
    "x = np.linalg.solve(A, b)\n",
    "print(f'Solution: {x}')"
   ]
  },
  {
   "cell_type": "code",
   "execution_count": null,
   "id": "1a190255-fdf5-4a6c-95dd-49be11520494",
   "metadata": {},
   "outputs": [],
   "source": []
  }
 ],
 "metadata": {
  "kernelspec": {
   "display_name": "Python 3 (ipykernel)",
   "language": "python",
   "name": "python3"
  },
  "language_info": {
   "codemirror_mode": {
    "name": "ipython",
    "version": 3
   },
   "file_extension": ".py",
   "mimetype": "text/x-python",
   "name": "python",
   "nbconvert_exporter": "python",
   "pygments_lexer": "ipython3",
   "version": "3.11.7"
  }
 },
 "nbformat": 4,
 "nbformat_minor": 5
}
