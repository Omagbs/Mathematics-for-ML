{
 "cells": [
  {
   "cell_type": "markdown",
   "id": "90a0e05e-fe9a-4da3-a01e-0950ff0a2662",
   "metadata": {},
   "source": [
    "# Evaluating the Determinant of a Matrix\n",
    "Now, the Determinant of a matrix is essential to test if a system of linear equation or matrix is singular or non-singular.\n",
    "If the Determinant of a matrix returns returns a **non-zero** value, it is **non-singular**, which also means it has a unique solution. Conversely, it the determinant of a matrix is **zero**, then it is a **singular**."
   ]
  },
  {
   "cell_type": "markdown",
   "id": "fe056696-2706-44b6-ab7e-1f7332a5ab62",
   "metadata": {},
   "source": [
    "Recall the previous equation we used initially:\n",
    "\\begin{align}-x_{1} + 3x_{2} &= 7 \\\\ 3x_{1} + 2x_{2} &= 1 \\tag{1}\n",
    "\\end{align}"
   ]
  },
  {
   "cell_type": "code",
   "execution_count": 2,
   "id": "dcfbc55c-efd9-4f44-824a-f105899ebddc",
   "metadata": {},
   "outputs": [],
   "source": [
    "import numpy as np\n",
    "A = np.array([[-1, 3],[3, 2]], dtype = np.dtype(float))\n",
    "b = np.array([7, 1], dtype = np.dtype(float))"
   ]
  },
  {
   "cell_type": "markdown",
   "id": "38735d1c-f677-4d60-a622-e9e5856e33ac",
   "metadata": {},
   "source": [
    "we use the `np.linalg.det(A)` to get the determinant\n",
    "- where A signifies the matrix"
   ]
  },
  {
   "cell_type": "code",
   "execution_count": 7,
   "id": "c5229391-c7ab-4495-91df-fd2797cce1e0",
   "metadata": {},
   "outputs": [
    {
     "name": "stdout",
     "output_type": "stream",
     "text": [
      "Determinant of matrix A is -11.00\n"
     ]
    }
   ],
   "source": [
    "D = np.linalg.det(A)\n",
    "print(f'Determinant of matrix A is {D: .2f}')"
   ]
  },
  {
   "cell_type": "markdown",
   "id": "e6211226-e5a5-4872-b4ee-45d83cda20b7",
   "metadata": {},
   "source": [
    "So we see that it is non-singular matrix. Hence it has a unique solution"
   ]
  },
  {
   "cell_type": "code",
   "execution_count": null,
   "id": "1e552825-57b6-4830-b74b-98f7d2ee0761",
   "metadata": {},
   "outputs": [],
   "source": []
  }
 ],
 "metadata": {
  "kernelspec": {
   "display_name": "Python 3 (ipykernel)",
   "language": "python",
   "name": "python3"
  },
  "language_info": {
   "codemirror_mode": {
    "name": "ipython",
    "version": 3
   },
   "file_extension": ".py",
   "mimetype": "text/x-python",
   "name": "python",
   "nbconvert_exporter": "python",
   "pygments_lexer": "ipython3",
   "version": "3.11.7"
  }
 },
 "nbformat": 4,
 "nbformat_minor": 5
}
