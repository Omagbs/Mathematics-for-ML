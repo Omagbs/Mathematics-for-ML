{
 "cells": [
  {
   "cell_type": "markdown",
   "id": "77d91d80-95e0-446e-98dc-61ca52389c01",
   "metadata": {},
   "source": [
    "# System of Linear Equations with Infinite Number of Solutions\n",
    "\n",
    "Given the equation:\n",
    "\\begin{cases}\n",
    "x_{1}+x_{2}+x_{3} &= 2 \\\\ \n",
    "x_{2}-3x_{3} &= 1 \\\\\n",
    "2x_{1}+x_{2}+5x_{3} &= 3 \\tag{3}\\end{cases}"
   ]
  },
  {
   "cell_type": "code",
   "execution_count": 14,
   "id": "40b24df7-63f2-4803-8d7a-244d95d0230e",
   "metadata": {},
   "outputs": [
    {
     "name": "stdout",
     "output_type": "stream",
     "text": [
      "Matrix A:\n",
      " [[ 1.  1.  1.]\n",
      " [ 0.  1. -3.]\n",
      " [ 2.  1.  5.]]\n",
      "Array b: \n",
      " [2. 1. 3.]\n"
     ]
    }
   ],
   "source": [
    "import numpy as np\n",
    "\n",
    "A = np.array([[1, 1, 1],[0, 1, -3],[2, 1, 5]], dtype = np.dtype(float))\n",
    "b = np.array([2, 1, 3], dtype = np.dtype(float))\n",
    "\n",
    "print(\"Matrix A:\\n\", A)\n",
    "print(\"Array b: \\n\", b)"
   ]
  },
  {
   "cell_type": "markdown",
   "id": "4d9b3e94-17a6-41ef-9090-c29ce4e1da79",
   "metadata": {},
   "source": [
    "Now for us to check if the this matrix has a unique solution, we find its determinant. "
   ]
  },
  {
   "cell_type": "code",
   "execution_count": 15,
   "id": "0b28093b-b81f-4db8-a862-d41c89be11a7",
   "metadata": {},
   "outputs": [
    {
     "name": "stdout",
     "output_type": "stream",
     "text": [
      "Determinant of Matrix is: 0.00\n"
     ]
    }
   ],
   "source": [
    "D = np.linalg.det(A)\n",
    "print(f\"Determinant of Matrix is: {D:.2f}\")"
   ]
  },
  {
   "cell_type": "markdown",
   "id": "48daa0ef-568e-4948-8a2b-c1b44575b194",
   "metadata": {},
   "source": [
    "So we see that the determinant is zero. This means one of two things: The matrix or the linear equation has **no solution**; or it has **infinite solutions**. To find which exactly it is from the two options. we can use the **Row Reduction**"
   ]
  },
  {
   "cell_type": "markdown",
   "id": "85cd156e-ed37-4b35-8f60-2191ac0c6091",
   "metadata": {},
   "source": [
    "using Row Reduction, we have to stack the matrix A and B together first"
   ]
  },
  {
   "cell_type": "markdown",
   "id": "5583777d-e505-44fb-8a6c-af7383f62041",
   "metadata": {},
   "source": [
    "### Recall our functions:"
   ]
  },
  {
   "cell_type": "code",
   "execution_count": 16,
   "id": "2bba22fa-f963-4aa7-99ec-15fc956750ee",
   "metadata": {},
   "outputs": [],
   "source": [
    "def MultiplyRow(M, row_num, row_num_multiple):\n",
    "    M_new = M.copy()\n",
    "    M_new[row_num] = M_new[row_num] * row_num_multiple\n",
    "    return M_new\n",
    "\n",
    "def AddRow(M, row_num_1, row_num_2, row_num_1_multiple):\n",
    "    M_new = M.copy()\n",
    "    M_new[row_num_2] =  (row_num_1_multiple * M_new[row_num_1]) + M_new[row_num_2]\n",
    "    return M_new\n",
    "\n",
    "def SwapRows(M, row_num_1, row_num_2):\n",
    "    M_new = M.copy()\n",
    "    M_new[[row_num_1, row_num_2]] = M_new[[row_num_2, row_num_1]]\n",
    "    return M_new"
   ]
  },
  {
   "cell_type": "code",
   "execution_count": 17,
   "id": "bfd310fb-71a2-46ca-8611-72b8b87861c1",
   "metadata": {},
   "outputs": [
    {
     "name": "stdout",
     "output_type": "stream",
     "text": [
      "[[ 1.  1.  1.  2.]\n",
      " [ 0.  1. -3.  1.]\n",
      " [ 2.  1.  5.  3.]]\n"
     ]
    }
   ],
   "source": [
    "A_sys = np.hstack((A, b.reshape((3,1))))\n",
    "print(A_sys)"
   ]
  },
  {
   "cell_type": "markdown",
   "id": "e7958c9e-6d2b-438d-b294-7705324f700f",
   "metadata": {},
   "source": [
    "Now, our goal is to eliminate the 2 in the third array. We achieve this by Adding row 1 multiplied by -2 to array 3."
   ]
  },
  {
   "cell_type": "code",
   "execution_count": 18,
   "id": "c04fae34-1746-4a95-a78c-90f041fb0723",
   "metadata": {},
   "outputs": [
    {
     "name": "stdout",
     "output_type": "stream",
     "text": [
      "[[ 1.  1.  1.  2.]\n",
      " [ 0.  1. -3.  1.]\n",
      " [ 0. -1.  3. -1.]]\n"
     ]
    }
   ],
   "source": [
    "A_ref = AddRow(A_sys, 0, 2, -2)\n",
    "print(A_ref)"
   ]
  },
  {
   "cell_type": "markdown",
   "id": "5f0f9e3d-352e-4f8b-af02-7e2ca6ae3e6a",
   "metadata": {},
   "source": [
    "Add row 2 to row 3 next"
   ]
  },
  {
   "cell_type": "code",
   "execution_count": 19,
   "id": "991cd835-06b9-42cf-916e-8dbaed45747a",
   "metadata": {},
   "outputs": [
    {
     "name": "stdout",
     "output_type": "stream",
     "text": [
      "[[ 1.  1.  1.  2.]\n",
      " [ 0.  1. -3.  1.]\n",
      " [ 0.  0.  0.  0.]]\n"
     ]
    }
   ],
   "source": [
    "A_ref = AddRow(A_ref, 1, 2, 1)\n",
    "print(A_ref)"
   ]
  },
  {
   "cell_type": "markdown",
   "id": "f5325d4b-1474-4ea3-96db-d641b2c8e00b",
   "metadata": {},
   "source": [
    "Here, the last row of the matrix corresponds to the 0 = 0. Meaning that the linear system has infinite number of solutions"
   ]
  },
  {
   "cell_type": "code",
   "execution_count": null,
   "id": "81b6d411-46f7-4831-b764-600424ce6031",
   "metadata": {},
   "outputs": [],
   "source": []
  }
 ],
 "metadata": {
  "kernelspec": {
   "display_name": "Python 3 (ipykernel)",
   "language": "python",
   "name": "python3"
  },
  "language_info": {
   "codemirror_mode": {
    "name": "ipython",
    "version": 3
   },
   "file_extension": ".py",
   "mimetype": "text/x-python",
   "name": "python",
   "nbconvert_exporter": "python",
   "pygments_lexer": "ipython3",
   "version": "3.11.7"
  }
 },
 "nbformat": 4,
 "nbformat_minor": 5
}
