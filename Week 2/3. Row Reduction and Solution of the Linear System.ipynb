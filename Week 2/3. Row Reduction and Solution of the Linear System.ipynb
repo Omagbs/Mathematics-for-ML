{
 "cells": [
  {
   "cell_type": "markdown",
   "id": "65a9f31d-f340-4154-970a-afaed0b89ce9",
   "metadata": {},
   "source": [
    "# Row Reduction and Solution of the linear System\n",
    "Recall our equation:\n",
    "\n",
    "\\begin{cases}\n",
    "4x_{1}-3x_{2}+x_{3} &= 10 \\\\ \n",
    "2x_{1}+x_{2}+3x_{3} &= 0 \\\\\n",
    "-x_{1}+2x_{2}-5x_{3} &= 17 \\tag{1} \\end{cases}"
   ]
  },
  {
   "cell_type": "code",
   "execution_count": 3,
   "id": "b2ecd4e0-6e66-4674-8a1c-560b197ea9a4",
   "metadata": {},
   "outputs": [
    {
     "name": "stdout",
     "output_type": "stream",
     "text": [
      "Matrix A:\n",
      " [[ 4. -3.  1.]\n",
      " [ 2.  1.  3.]\n",
      " [-1.  2. -5.]]\n",
      "Array b: \n",
      " [-10.   0.  17.]\n"
     ]
    }
   ],
   "source": [
    "import numpy as np\n",
    "A = np.array([[4, -3, 1],[2, 1, 3],[-1, 2, -5]], dtype = np.dtype(float))\n",
    "b = np.array([-10, 0, 17], dtype = np.dtype(float))\n",
    "\n",
    "print(\"Matrix A:\\n\", A)\n",
    "print(\"Array b: \\n\", b)"
   ]
  },
  {
   "cell_type": "code",
   "execution_count": 4,
   "id": "ad221112-94ab-4c8e-8e94-8d7441ec3e00",
   "metadata": {},
   "outputs": [
    {
     "name": "stdout",
     "output_type": "stream",
     "text": [
      "[[  4.  -3.   1. -10.]\n",
      " [  2.   1.   3.   0.]\n",
      " [ -1.   2.  -5.  17.]]\n"
     ]
    }
   ],
   "source": [
    "#stacking\n",
    "A_system = np.hstack((A, b.reshape((3, 1))))\n",
    "print(A_system)"
   ]
  },
  {
   "cell_type": "markdown",
   "id": "f23fbf68-4075-4ffd-a3bd-853b639d9879",
   "metadata": {},
   "source": [
    "### Recall our functions:"
   ]
  },
  {
   "cell_type": "code",
   "execution_count": 5,
   "id": "a42adc4f-8d20-47b0-beb6-17d2398b8bbf",
   "metadata": {},
   "outputs": [],
   "source": [
    "def MultiplyRow(M, row_num, row_num_multiple):\n",
    "    M_new = M.copy()\n",
    "    M_new[row_num] = M_new[row_num] * row_num_multiple\n",
    "    return M_new\n",
    "\n",
    "def AddRow(M, row_num_1, row_num_2, row_num_1_multiple):\n",
    "    M_new = M.copy()\n",
    "    M_new[row_num_2] =  (row_num_1_multiple * M_new[row_num_1]) + M_new[row_num_2]\n",
    "    return M_new\n",
    "\n",
    "def SwapRows(M, row_num_1, row_num_2):\n",
    "    M_new = M.copy()\n",
    "    M_new[[row_num_1, row_num_2]] = M_new[[row_num_2, row_num_1]]\n",
    "    return M_new"
   ]
  },
  {
   "cell_type": "markdown",
   "id": "c736eb15-f7b4-4de3-9b9d-0b8f0a9c2640",
   "metadata": {},
   "source": [
    "Now to solve of matrix using row reduction, we start by swapping the rows first. It is convenient to have 1 or -1 in the first element of the first row."
   ]
  },
  {
   "cell_type": "code",
   "execution_count": 8,
   "id": "769e1474-84f2-46d7-a320-a2ad5b6f2b7c",
   "metadata": {},
   "outputs": [
    {
     "name": "stdout",
     "output_type": "stream",
     "text": [
      "[[ -1.   2.  -5.  17.]\n",
      " [  2.   1.   3.   0.]\n",
      " [  4.  -3.   1. -10.]]\n"
     ]
    }
   ],
   "source": [
    "A_ref = SwapRows(A_system, 0, 2)\n",
    "print(A_ref)"
   ]
  },
  {
   "cell_type": "markdown",
   "id": "5bc246bc-7f65-4370-9776-9916584b88bf",
   "metadata": {},
   "source": [
    "We've swapped the rows. Next goal is to make the first element in row 2 to be zero. We do this by multiplying row 1 by 2 and adding it to row 2"
   ]
  },
  {
   "cell_type": "code",
   "execution_count": 10,
   "id": "21c28182-c9f6-40f7-9cae-f1f284c23da2",
   "metadata": {},
   "outputs": [
    {
     "name": "stdout",
     "output_type": "stream",
     "text": [
      "[[ -1.   2.  -5.  17.]\n",
      " [  0.   5.  -7.  34.]\n",
      " [  4.  -3.   1. -10.]]\n"
     ]
    }
   ],
   "source": [
    "A_ref = AddRow(A_ref, 0, 1, 2)\n",
    "print(A_ref)"
   ]
  },
  {
   "cell_type": "markdown",
   "id": "e87e0957-f9f8-45ec-ba46-431ca9582b8a",
   "metadata": {},
   "source": [
    "The next goal is to make 4 on the third row become 0. we do this by Adding row 1 multiplied with 4 to row 3, and storing it in row 3"
   ]
  },
  {
   "cell_type": "code",
   "execution_count": 11,
   "id": "01087cdb-5108-42d1-b535-6202434d4386",
   "metadata": {},
   "outputs": [
    {
     "name": "stdout",
     "output_type": "stream",
     "text": [
      "[[ -1.   2.  -5.  17.]\n",
      " [  0.   5.  -7.  34.]\n",
      " [  0.   5. -19.  58.]]\n"
     ]
    }
   ],
   "source": [
    "A_ref = AddRow(A_ref, 0, 2, 4)\n",
    "print(A_ref)"
   ]
  },
  {
   "cell_type": "markdown",
   "id": "f62dc3dd-7e20-41e9-8b4e-f2a890173ba7",
   "metadata": {},
   "source": [
    "The next goal is to turn the 5 in the third row into a 0. We do this by Adding the second row multiplied by -1 to row three"
   ]
  },
  {
   "cell_type": "code",
   "execution_count": 12,
   "id": "8d9d232a-a507-466e-a9d7-63281c7134eb",
   "metadata": {},
   "outputs": [
    {
     "name": "stdout",
     "output_type": "stream",
     "text": [
      "[[ -1.   2.  -5.  17.]\n",
      " [  0.   5.  -7.  34.]\n",
      " [  0.   0. -12.  24.]]\n"
     ]
    }
   ],
   "source": [
    "A_ref = AddRow(A_ref, 1, 2, -1)\n",
    "print(A_ref)"
   ]
  },
  {
   "cell_type": "markdown",
   "id": "c599160f-bb53-4469-90d8-007c2d053156",
   "metadata": {},
   "source": [
    "Now, it's to find the value of $x_3$ from the third row as it corresponds to the equation $-12x_3 = 24$ so let's divide the 3rd row by -12 by multiplying with -1/12"
   ]
  },
  {
   "cell_type": "code",
   "execution_count": 13,
   "id": "3b748877-8374-4731-9fcc-5afcaceb3dc1",
   "metadata": {},
   "outputs": [
    {
     "name": "stdout",
     "output_type": "stream",
     "text": [
      "[[-1.  2. -5. 17.]\n",
      " [ 0.  5. -7. 34.]\n",
      " [-0. -0.  1. -2.]]\n"
     ]
    }
   ],
   "source": [
    "A_ref = MultiplyRow(A_ref, 2, -1/12)\n",
    "print(A_ref)"
   ]
  },
  {
   "cell_type": "markdown",
   "id": "93f761ca-9343-42b9-a75b-6a5633c1e648",
   "metadata": {},
   "source": [
    "Now we know what our $x_3$ is. The second row corresponds to $5x_2 - 7x_3 = 34$ and the first row, $-x_1 + 2x_2 - 5x_3 = 17$\n",
    "Referring to the element of the matrix, we can find $x_2, x_3$"
   ]
  },
  {
   "cell_type": "code",
   "execution_count": 15,
   "id": "90c83d71-b3fb-494e-b5d2-659b6c12aa81",
   "metadata": {},
   "outputs": [
    {
     "name": "stdout",
     "output_type": "stream",
     "text": [
      "-2.0 4.0 -3.0\n"
     ]
    }
   ],
   "source": [
    "x_3 = -2.0\n",
    "x_2 = ((A_ref[1, 3] - A_ref[1, 2] * x_3) / A_ref[1, 1])\n",
    "x_1 = ((A_ref[0, 3] - A_ref[0, 2] * x_3 - A_ref[0, 1] * 2) / A_ref[0, 0])\n",
    "print(x_3, x_2, x_1)"
   ]
  },
  {
   "cell_type": "code",
   "execution_count": null,
   "id": "6857ff1c-6cf0-4757-b0ab-2993b33ec2e7",
   "metadata": {},
   "outputs": [],
   "source": []
  }
 ],
 "metadata": {
  "kernelspec": {
   "display_name": "Python 3 (ipykernel)",
   "language": "python",
   "name": "python3"
  },
  "language_info": {
   "codemirror_mode": {
    "name": "ipython",
    "version": 3
   },
   "file_extension": ".py",
   "mimetype": "text/x-python",
   "name": "python",
   "nbconvert_exporter": "python",
   "pygments_lexer": "ipython3",
   "version": "3.11.7"
  }
 },
 "nbformat": 4,
 "nbformat_minor": 5
}
