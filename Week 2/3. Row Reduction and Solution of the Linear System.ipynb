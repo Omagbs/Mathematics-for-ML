{
 "cells": [
  {
   "cell_type": "markdown",
   "id": "65a9f31d-f340-4154-970a-afaed0b89ce9",
   "metadata": {},
   "source": [
    "# Row Reduction and Solution of the linear System\n",
    "Recall our equation:\n",
    "\n",
    "\\begin{cases}\n",
    "4x_{1}-3x_{2}+x_{3} &= 10 \\\\ \n",
    "2x_{1}+x_{2}+3x_{3} &= 0 \\\\\n",
    "-x_{1}+2x_{2}-5x_{3} &= 17 \\tag{1} \\end{cases}"
   ]
  },
  {
   "cell_type": "code",
   "execution_count": 3,
   "id": "b2ecd4e0-6e66-4674-8a1c-560b197ea9a4",
   "metadata": {},
   "outputs": [
    {
     "name": "stdout",
     "output_type": "stream",
     "text": [
      "Matrix A:\n",
      " [[ 4. -3.  1.]\n",
      " [ 2.  1.  3.]\n",
      " [-1.  2. -5.]]\n",
      "Array b: \n",
      " [-10.   0.  17.]\n"
     ]
    }
   ],
   "source": [
    "import numpy as np\n",
    "A = np.array([[4, -3, 1],[2, 1, 3],[-1, 2, -5]], dtype = np.dtype(float))\n",
    "b = np.array([-10, 0, 17], dtype = np.dtype(float))\n",
    "\n",
    "print(\"Matrix A:\\n\", A)\n",
    "print(\"Array b: \\n\", b)"
   ]
  },
  {
   "cell_type": "code",
   "execution_count": 4,
   "id": "ad221112-94ab-4c8e-8e94-8d7441ec3e00",
   "metadata": {},
   "outputs": [
    {
     "name": "stdout",
     "output_type": "stream",
     "text": [
      "[[  4.  -3.   1. -10.]\n",
      " [  2.   1.   3.   0.]\n",
      " [ -1.   2.  -5.  17.]]\n"
     ]
    }
   ],
   "source": [
    "#stacking\n",
    "A_system = np.hstack((A, b.reshape((3, 1))))\n",
    "print(A_system)"
   ]
  },
  {
   "cell_type": "markdown",
   "id": "f23fbf68-4075-4ffd-a3bd-853b639d9879",
   "metadata": {},
   "source": [
    "### Recall our functions:"
   ]
  },
  {
   "cell_type": "code",
   "execution_count": 5,
   "id": "a42adc4f-8d20-47b0-beb6-17d2398b8bbf",
   "metadata": {},
   "outputs": [],
   "source": [
    "def MultiplyRow(M, row_num, row_num_multiple):\n",
    "    M_new = M.copy()\n",
    "    M_new[row_num] = M_new[row_num] * row_num_multiple\n",
    "    return M_new\n",
    "\n",
    "def AddRow(M, row_num_1, row_num_2, row_num_1_multiple):\n",
    "    M_new = M.copy()\n",
    "    M_new[row_num_2] =  (row_num_1_multiple * M_new[row_num_1]) + M_new[row_num_2]\n",
    "    return M_new\n",
    "\n",
    "def SwapRows(M, row_num_1, row_num_2):\n",
    "    M_new = M.copy()\n",
    "    M_new[[row_num_1, row_num_2]] = M_new[[row_num_2, row_num_1]]\n",
    "    return M_new"
   ]
  },
  {
   "cell_type": "markdown",
   "id": "c736eb15-f7b4-4de3-9b9d-0b8f0a9c2640",
   "metadata": {},
   "source": [
    "Now to solve of matrix using row reduction, we start by swapping the rows first. It is convenient to have 1 or -1 in the first element of the first row."
   ]
  },
  {
   "cell_type": "code",
   "execution_count": 8,
   "id": "769e1474-84f2-46d7-a320-a2ad5b6f2b7c",
   "metadata": {},
   "outputs": [
    {
     "name": "stdout",
     "output_type": "stream",
     "text": [
      "[[ -1.   2.  -5.  17.]\n",
      " [  2.   1.   3.   0.]\n",
      " [  4.  -3.   1. -10.]]\n"
     ]
    }
   ],
   "source": [
    "A_ref = SwapRows(A_system, 0, 2)\n",
    "print(A_ref)"
   ]
  },
  {
   "cell_type": "code",
   "execution_count": null,
   "id": "725d0009-c712-4210-ab6d-a2f32eafea99",
   "metadata": {},
   "outputs": [],
   "source": []
  }
 ],
 "metadata": {
  "kernelspec": {
   "display_name": "Python 3 (ipykernel)",
   "language": "python",
   "name": "python3"
  },
  "language_info": {
   "codemirror_mode": {
    "name": "ipython",
    "version": 3
   },
   "file_extension": ".py",
   "mimetype": "text/x-python",
   "name": "python",
   "nbconvert_exporter": "python",
   "pygments_lexer": "ipython3",
   "version": "3.11.7"
  }
 },
 "nbformat": 4,
 "nbformat_minor": 5
}
