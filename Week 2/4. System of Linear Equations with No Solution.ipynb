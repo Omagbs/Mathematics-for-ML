{
 "cells": [
  {
   "cell_type": "markdown",
   "id": "18122043-1d70-449d-ad01-228c7fa35c60",
   "metadata": {},
   "source": [
    "# System of Linear Equations with No Solution\n",
    "\n",
    "Given this equation:\n",
    "\\begin{cases}\n",
    "x_{1}+x_{2}+x_{3} &= 2 \\\\ \n",
    "x_{2}-3x_{3} &= 1 \\\\\n",
    "2x_{1}+x_{2}+5x_{3} &= 0 \\tag{2}\\end{cases}"
   ]
  },
  {
   "cell_type": "code",
   "execution_count": 9,
   "id": "6c4059c6-0fdb-45f0-8c8a-0390b6302566",
   "metadata": {},
   "outputs": [
    {
     "name": "stdout",
     "output_type": "stream",
     "text": [
      "Matrix A:\n",
      " [[ 1.  1.  1.]\n",
      " [ 0.  1. -3.]\n",
      " [ 2.  1.  5.]]\n",
      "Array b: \n",
      " [2. 1. 0.]\n"
     ]
    }
   ],
   "source": [
    "import numpy as np\n",
    "\n",
    "A = np.array([[1, 1, 1],[0, 1, -3],[2, 1, 5]], dtype = np.dtype(float))\n",
    "b = np.array([2, 1, 0], dtype = np.dtype(float))\n",
    "\n",
    "print(\"Matrix A:\\n\", A)\n",
    "print(\"Array b: \\n\", b)"
   ]
  },
  {
   "cell_type": "markdown",
   "id": "a7c0f9a1-c7a2-4fc5-a618-af97003638cf",
   "metadata": {},
   "source": [
    "Now for us to check if the this matrix has a unique solution, we find its determinant. "
   ]
  },
  {
   "cell_type": "code",
   "execution_count": 10,
   "id": "9acc62de-adf7-4062-b8fc-3c450c3e7cb3",
   "metadata": {},
   "outputs": [
    {
     "name": "stdout",
     "output_type": "stream",
     "text": [
      "Determinant of Matrix is: 0.00\n"
     ]
    }
   ],
   "source": [
    "D = np.linalg.det(A)\n",
    "print(f\"Determinant of Matrix is: {D:.2f}\")"
   ]
  },
  {
   "cell_type": "markdown",
   "id": "3d58f452-d1a4-4468-af18-f883cdef88be",
   "metadata": {},
   "source": [
    "So we see that the determinant is zero. This means one of two things: The matrix or the linear equation has **no solution**; or it has **infinite solutions**. To find which exactly it is from the two options. we can use the **Row Reduction**"
   ]
  },
  {
   "cell_type": "markdown",
   "id": "65ae7377-cb93-4ab7-8402-95144947910a",
   "metadata": {},
   "source": [
    "using Row Reduction, we have to stack the matrix A and B together first"
   ]
  },
  {
   "cell_type": "code",
   "execution_count": 24,
   "id": "e7490562-2f9c-4071-8ec3-f8b40661fec9",
   "metadata": {},
   "outputs": [
    {
     "name": "stdout",
     "output_type": "stream",
     "text": [
      "[[ 1.  1.  1.  2.]\n",
      " [ 0.  1. -3.  1.]\n",
      " [ 2.  1.  5.  0.]]\n"
     ]
    }
   ],
   "source": [
    "A_sys = np.hstack((A, b.reshape((3,1))))\n",
    "print(A_ref)"
   ]
  },
  {
   "cell_type": "markdown",
   "id": "1e37df7a-90e4-44c0-967b-33e9375526b1",
   "metadata": {},
   "source": [
    "### Recall our functions:"
   ]
  },
  {
   "cell_type": "code",
   "execution_count": 14,
   "id": "f1b066da-e9ff-415d-ab99-f10802264c39",
   "metadata": {},
   "outputs": [],
   "source": [
    "def MultiplyRow(M, row_num, row_num_multiple):\n",
    "    M_new = M.copy()\n",
    "    M_new[row_num] = M_new[row_num] * row_num_multiple\n",
    "    return M_new\n",
    "\n",
    "def AddRow(M, row_num_1, row_num_2, row_num_1_multiple):\n",
    "    M_new = M.copy()\n",
    "    M_new[row_num_2] =  (row_num_1_multiple * M_new[row_num_1]) + M_new[row_num_2]\n",
    "    return M_new\n",
    "\n",
    "def SwapRows(M, row_num_1, row_num_2):\n",
    "    M_new = M.copy()\n",
    "    M_new[[row_num_1, row_num_2]] = M_new[[row_num_2, row_num_1]]\n",
    "    return M_new"
   ]
  },
  {
   "cell_type": "markdown",
   "id": "03f365d3-8eda-437a-a844-06e15d6ddf6a",
   "metadata": {},
   "source": [
    "Now, our goal is to eliminate the 2 in the third array. We achieve this by Adding row 1 multiplied by -2 to array 3."
   ]
  },
  {
   "cell_type": "code",
   "execution_count": 25,
   "id": "4a20d93c-ab28-46a7-8928-6166889b0930",
   "metadata": {},
   "outputs": [
    {
     "name": "stdout",
     "output_type": "stream",
     "text": [
      "[[ 1.  1.  1.  2.]\n",
      " [ 0.  1. -3.  1.]\n",
      " [ 0. -1.  3. -4.]]\n"
     ]
    }
   ],
   "source": [
    "A_ref = AddRow(A_sys, 0, 2, -2)\n",
    "print(A_ref)"
   ]
  },
  {
   "cell_type": "markdown",
   "id": "10e24767-3f0f-416d-aad8-c0d6ce9b4334",
   "metadata": {},
   "source": [
    "Add row 2 to row 3 next"
   ]
  },
  {
   "cell_type": "code",
   "execution_count": 26,
   "id": "22effc8d-408e-400a-bfd8-a2d7914bcbcb",
   "metadata": {},
   "outputs": [
    {
     "name": "stdout",
     "output_type": "stream",
     "text": [
      "[[ 1.  1.  1.  2.]\n",
      " [ 0.  1. -3.  1.]\n",
      " [ 0.  0.  0. -3.]]\n"
     ]
    }
   ],
   "source": [
    "A_ref = AddRow(A_ref, 1, 2, 1)\n",
    "print(A_ref)"
   ]
  },
  {
   "cell_type": "markdown",
   "id": "7018b9de-c161-43aa-b51d-672d3f309aca",
   "metadata": {},
   "source": [
    "so we see that the last row will correspond to 0 = -3 which has no solution. Thus this whole linear system has not solution."
   ]
  },
  {
   "cell_type": "code",
   "execution_count": null,
   "id": "cebef1b6-bb3c-406f-82c6-0df3d844e0d5",
   "metadata": {},
   "outputs": [],
   "source": []
  }
 ],
 "metadata": {
  "kernelspec": {
   "display_name": "Python 3 (ipykernel)",
   "language": "python",
   "name": "python3"
  },
  "language_info": {
   "codemirror_mode": {
    "name": "ipython",
    "version": 3
   },
   "file_extension": ".py",
   "mimetype": "text/x-python",
   "name": "python",
   "nbconvert_exporter": "python",
   "pygments_lexer": "ipython3",
   "version": "3.11.7"
  }
 },
 "nbformat": 4,
 "nbformat_minor": 5
}
