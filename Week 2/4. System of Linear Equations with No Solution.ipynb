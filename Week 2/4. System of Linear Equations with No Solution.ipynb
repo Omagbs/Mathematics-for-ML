{
 "cells": [
  {
   "cell_type": "markdown",
   "id": "18122043-1d70-449d-ad01-228c7fa35c60",
   "metadata": {},
   "source": [
    "# System of Linear Equations with No Solution\n",
    "\n",
    "Given this equation:\n",
    "\\begin{cases}\n",
    "x_{1}+x_{2}+x_{3} &= 2 \\\\ \n",
    "x_{2}-3x_{3} &= 1 \\\\\n",
    "2x_{1}+x_{2}+5x_{3} &= 0 \\tag{2}\\end{cases}"
   ]
  },
  {
   "cell_type": "code",
   "execution_count": 9,
   "id": "6c4059c6-0fdb-45f0-8c8a-0390b6302566",
   "metadata": {},
   "outputs": [
    {
     "name": "stdout",
     "output_type": "stream",
     "text": [
      "Matrix A:\n",
      " [[ 1.  1.  1.]\n",
      " [ 0.  1. -3.]\n",
      " [ 2.  1.  5.]]\n",
      "Array b: \n",
      " [2. 1. 0.]\n"
     ]
    }
   ],
   "source": [
    "import numpy as np\n",
    "\n",
    "A = np.array([[1, 1, 1],[0, 1, -3],[2, 1, 5]], dtype = np.dtype(float))\n",
    "b = np.array([2, 1, 0], dtype = np.dtype(float))\n",
    "\n",
    "print(\"Matrix A:\\n\", A)\n",
    "print(\"Array b: \\n\", b)"
   ]
  },
  {
   "cell_type": "markdown",
   "id": "a7c0f9a1-c7a2-4fc5-a618-af97003638cf",
   "metadata": {},
   "source": [
    "Now for us to check if the this matrix has a unique solution, we find its determinant. "
   ]
  },
  {
   "cell_type": "code",
   "execution_count": 10,
   "id": "9acc62de-adf7-4062-b8fc-3c450c3e7cb3",
   "metadata": {},
   "outputs": [
    {
     "name": "stdout",
     "output_type": "stream",
     "text": [
      "Determinant of Matrix is: 0.00\n"
     ]
    }
   ],
   "source": [
    "D = np.linalg.det(A)\n",
    "print(f\"Determinant of Matrix is: {D:.2f}\")"
   ]
  },
  {
   "cell_type": "markdown",
   "id": "3d58f452-d1a4-4468-af18-f883cdef88be",
   "metadata": {},
   "source": [
    "So we see that the determinant is zero. This means one of two things: The matrix or the linear equation has **no solution**; or it has **infinite solutions**. To find which exactly it is from the two options. we can use the Row "
   ]
  },
  {
   "cell_type": "code",
   "execution_count": null,
   "id": "91bc6b74-ff8f-4fc0-9257-512816813db8",
   "metadata": {},
   "outputs": [],
   "source": []
  }
 ],
 "metadata": {
  "kernelspec": {
   "display_name": "Python 3 (ipykernel)",
   "language": "python",
   "name": "python3"
  },
  "language_info": {
   "codemirror_mode": {
    "name": "ipython",
    "version": 3
   },
   "file_extension": ".py",
   "mimetype": "text/x-python",
   "name": "python",
   "nbconvert_exporter": "python",
   "pygments_lexer": "ipython3",
   "version": "3.11.7"
  }
 },
 "nbformat": 4,
 "nbformat_minor": 5
}
