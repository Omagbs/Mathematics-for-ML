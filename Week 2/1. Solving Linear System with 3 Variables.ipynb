{
 "cells": [
  {
   "cell_type": "markdown",
   "id": "531a51b5-36c8-47c0-9da8-afc33bb8b4be",
   "metadata": {},
   "source": [
    "# Solving Linear System with 3 Variables\n",
    "Given the equation:\n",
    "\\begin{cases}\n",
    "4x_{1}-3x_{2}+x_{3} &= 10 \\\\ \n",
    "2x_{1}+x_{2}+3x_{3} &= 0 \\\\\n",
    "-x_{1}+2x_{2}-5x_{3} &= 17 \\tag{1} \\end{cases}"
   ]
  },
  {
   "cell_type": "code",
   "execution_count": 2,
   "id": "ca35ce12-1fb6-41a6-80b8-a21441827e19",
   "metadata": {},
   "outputs": [],
   "source": [
    "import numpy as np"
   ]
  },
  {
   "cell_type": "code",
   "execution_count": 11,
   "id": "24c8565b-7011-4caf-ba42-a81895556679",
   "metadata": {},
   "outputs": [
    {
     "name": "stdout",
     "output_type": "stream",
     "text": [
      "Matrix A:\n",
      " [[ 4. -3.  1.]\n",
      " [ 2.  1.  3.]\n",
      " [-1.  2. -5.]]\n",
      "Array b: \n",
      " [-10.   0.  17.]\n"
     ]
    }
   ],
   "source": [
    "A = np.array([[4, -3, 1],[2, 1, 3],[-1, 2, -5]], dtype = np.dtype(float))\n",
    "b = np.array([-10, 0, 17], dtype = np.dtype(float))\n",
    "\n",
    "print(\"Matrix A:\\n\", A)\n",
    "print(\"Array b: \\n\", b)"
   ]
  },
  {
   "cell_type": "markdown",
   "id": "3425f0c4-de99-46d8-8941-b4b37c75aaaf",
   "metadata": {},
   "source": [
    "To check the dimension of A and b"
   ]
  },
  {
   "cell_type": "code",
   "execution_count": 7,
   "id": "1a531aae-eff1-454f-80bf-6c8c7b5839f0",
   "metadata": {},
   "outputs": [
    {
     "name": "stdout",
     "output_type": "stream",
     "text": [
      "shape of matrix A:  (3, 3)\n",
      "shape of array b:  (3,)\n"
     ]
    }
   ],
   "source": [
    "print(\"shape of matrix A: \", np.shape(A))\n",
    "print(\"shape of array b: \", np.shape(b))"
   ]
  },
  {
   "cell_type": "markdown",
   "id": "ed347db9-132f-4233-8f2b-07d9944bf136",
   "metadata": {},
   "source": [
    "To Solve"
   ]
  },
  {
   "cell_type": "code",
   "execution_count": 12,
   "id": "65befc76-1cc0-4f6d-bd1e-e3df89590b5a",
   "metadata": {},
   "outputs": [
    {
     "name": "stdout",
     "output_type": "stream",
     "text": [
      "solution: [ 1.  4. -2.]\n"
     ]
    }
   ],
   "source": [
    "x = np.linalg.solve(A, b)\n",
    "print(f\"solution: {x}\")"
   ]
  },
  {
   "cell_type": "code",
   "execution_count": null,
   "id": "8ef82c0e-969f-4ccc-8573-3109b93a7d3d",
   "metadata": {},
   "outputs": [],
   "source": [
    "# Evaluation The Determinant of t"
   ]
  }
 ],
 "metadata": {
  "kernelspec": {
   "display_name": "Python 3 (ipykernel)",
   "language": "python",
   "name": "python3"
  },
  "language_info": {
   "codemirror_mode": {
    "name": "ipython",
    "version": 3
   },
   "file_extension": ".py",
   "mimetype": "text/x-python",
   "name": "python",
   "nbconvert_exporter": "python",
   "pygments_lexer": "ipython3",
   "version": "3.11.7"
  }
 },
 "nbformat": 4,
 "nbformat_minor": 5
}
