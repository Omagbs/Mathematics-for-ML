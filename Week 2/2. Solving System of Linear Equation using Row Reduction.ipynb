{
 "cells": [
  {
   "cell_type": "markdown",
   "id": "013d6dcb-76a6-4d97-9dc8-26927b2d93a5",
   "metadata": {},
   "source": [
    "# Solving System of Linear Equation using Row Reduction\n",
    "Recall the previous equation:\n",
    "\\begin{cases}\n",
    "4x_{1}-3x_{2}+x_{3} &= 10 \\\\ \n",
    "2x_{1}+x_{2}+3x_{3} &= 0 \\\\\n",
    "-x_{1}+2x_{2}-5x_{3} &= 17 \\tag{1} \\end{cases}\n",
    "\n",
    "We will create a matrix for it and then unify the matrix using `np.hstack()` function"
   ]
  },
  {
   "cell_type": "code",
   "execution_count": 2,
   "id": "48a63d84-a066-4495-a7f1-aae0d659d2b2",
   "metadata": {},
   "outputs": [],
   "source": [
    "import numpy as np"
   ]
  },
  {
   "cell_type": "code",
   "execution_count": 3,
   "id": "aa9cc1bf-9349-468c-b55a-a1f71f380a0a",
   "metadata": {},
   "outputs": [
    {
     "name": "stdout",
     "output_type": "stream",
     "text": [
      "Matrix A:\n",
      " [[ 4. -3.  1.]\n",
      " [ 2.  1.  3.]\n",
      " [-1.  2. -5.]]\n",
      "Array b: \n",
      " [-10.   0.  17.]\n"
     ]
    }
   ],
   "source": [
    "A = np.array([[4, -3, 1],[2, 1, 3],[-1, 2, -5]], dtype = np.dtype(float))\n",
    "b = np.array([-10, 0, 17], dtype = np.dtype(float))\n",
    "\n",
    "print(\"Matrix A:\\n\", A)\n",
    "print(\"Array b: \\n\", b)"
   ]
  },
  {
   "cell_type": "markdown",
   "id": "c1cc5b05-e67b-44cb-a868-e1d0c6067a81",
   "metadata": {},
   "source": [
    "Unifying the matrix:"
   ]
  },
  {
   "cell_type": "code",
   "execution_count": 13,
   "id": "fdbdc737-2b3c-45da-a0c2-1ade3d17d984",
   "metadata": {},
   "outputs": [
    {
     "name": "stdout",
     "output_type": "stream",
     "text": [
      "[[  4.  -3.   1. -10.]\n",
      " [  2.   1.   3.   0.]\n",
      " [ -1.   2.  -5.  17.]]\n"
     ]
    }
   ],
   "source": [
    "A_system = np.hstack((A, b.reshape((3, 1))))\n",
    "print(A_system)"
   ]
  },
  {
   "cell_type": "markdown",
   "id": "86c0ddda-ec02-40a3-b9f4-eb0644546b00",
   "metadata": {},
   "source": [
    "## Functions of Elementary Operations\n",
    "Elementary Operations which do not change the solution of a linear system\n",
    "\n",
    "- Multiply any row by a non-zero number\n",
    "- Add two rows and exhange one of the original rows with the result of the addition\n",
    "- Swap rows"
   ]
  },
  {
   "cell_type": "markdown",
   "id": "18a96802-bbcf-48ae-9e3a-5e0562ad039c",
   "metadata": {},
   "source": [
    "### Multiply Row Function"
   ]
  },
  {
   "cell_type": "code",
   "execution_count": 16,
   "id": "70645465-e9ca-46a7-bdb7-2a285f25fdee",
   "metadata": {},
   "outputs": [],
   "source": [
    "def MultiplyRow(M, row_num, row_num_multiple):\n",
    "    M_new = M.copy()\n",
    "    M_new[row_num] = M_new[row_num] * row_num_multiple\n",
    "    return M_new"
   ]
  },
  {
   "cell_type": "markdown",
   "id": "aa440af8-3e8e-4731-8d42-30545ce6ac7e",
   "metadata": {},
   "source": [
    "To test:"
   ]
  },
  {
   "cell_type": "code",
   "execution_count": 19,
   "id": "9be03831-d73f-4f29-b1fc-be8f746b9fdc",
   "metadata": {},
   "outputs": [
    {
     "name": "stdout",
     "output_type": "stream",
     "text": [
      "Original Matrix: \n",
      " [[  4.  -3.   1. -10.]\n",
      " [  2.   1.   3.   0.]\n",
      " [ -1.   2.  -5.  17.]]\n",
      "\n",
      "Matrix after 3rd row is multipied by 2:\n",
      " [[  4.  -3.   1. -10.]\n",
      " [  2.   1.   3.   0.]\n",
      " [ -2.   4. -10.  34.]]\n"
     ]
    }
   ],
   "source": [
    "print(\"Original Matrix: \\n\", A_system)\n",
    "print(\"\\nMatrix after 3rd row is multipied by 2:\\n\", MultiplyRow(A_system, 2, 2))"
   ]
  },
  {
   "cell_type": "markdown",
   "id": "bef83029-3ecf-4c5c-b7e8-8327f8b3190a",
   "metadata": {},
   "source": [
    "### Add Row Function"
   ]
  },
  {
   "cell_type": "code",
   "execution_count": 26,
   "id": "3a06700d-934b-49a6-a8d6-ccdd60e58e5a",
   "metadata": {},
   "outputs": [],
   "source": [
    "def AddRow(M, row_num_1, row_num_2, row_num_1_multiple):\n",
    "    M_new = M.copy()\n",
    "    M_new[row_num_2] =  (row_num_1_multiple * M_new[row_num_1]) + M_new[row_num_2]\n",
    "    return M_new"
   ]
  },
  {
   "cell_type": "markdown",
   "id": "f6fb8b2a-547b-4175-aad4-2b129a9be026",
   "metadata": {},
   "source": [
    "To test:"
   ]
  },
  {
   "cell_type": "code",
   "execution_count": 27,
   "id": "d311a575-d6f2-4fec-a67a-6b27402f5aaa",
   "metadata": {},
   "outputs": [
    {
     "name": "stdout",
     "output_type": "stream",
     "text": [
      "Original Matrix: \n",
      " [[  4.  -3.   1. -10.]\n",
      " [  2.   1.   3.   0.]\n",
      " [ -1.   2.  -5.  17.]]\n",
      "\n",
      " MAtrix after exhange of the third row with the sum of itself and second row multiplied by 1/2:\n",
      " [[  4.   -3.    1.  -10. ]\n",
      " [  2.    1.    3.    0. ]\n",
      " [  0.    2.5  -3.5  17. ]]\n"
     ]
    }
   ],
   "source": [
    "print(\"Original Matrix: \\n\", A_system)\n",
    "print(\"\\n MAtrix after exhange of the third row with the sum of itself and second row multiplied by 1/2:\\n\", AddRow(A_system, 1, 2, 1/2))"
   ]
  },
  {
   "cell_type": "markdown",
   "id": "46cca044-1e52-4e86-85ab-a2ae478b4f1b",
   "metadata": {},
   "source": [
    "### Swap Function"
   ]
  },
  {
   "cell_type": "code",
   "execution_count": 34,
   "id": "9cc03176-cf1c-42bd-91c4-d18c98b059af",
   "metadata": {},
   "outputs": [],
   "source": [
    "def SwapRows(M, row_num_1, row_num_2):\n",
    "    M_new = M.copy()\n",
    "    M_new[[row_num_1, row_num_2]] = M_new[[row_num_2, row_num_1]]\n",
    "    return M_new"
   ]
  },
  {
   "cell_type": "markdown",
   "id": "3252c2dd-8198-4cbd-8c4c-d44fda5fc607",
   "metadata": {},
   "source": [
    "To test:"
   ]
  },
  {
   "cell_type": "code",
   "execution_count": 35,
   "id": "86b4b8b3-88da-45a3-b47d-8e6bad52bee0",
   "metadata": {},
   "outputs": [
    {
     "name": "stdout",
     "output_type": "stream",
     "text": [
      "Original Matrix: \n",
      " [[  4.  -3.   1. -10.]\n",
      " [  2.   1.   3.   0.]\n",
      " [ -1.   2.  -5.  17.]]\n",
      "\n",
      " Matrix after swapping third row with second row:\n",
      " [[  4.  -3.   1. -10.]\n",
      " [ -1.   2.  -5.  17.]\n",
      " [  2.   1.   3.   0.]]\n"
     ]
    }
   ],
   "source": [
    "print(\"Original Matrix: \\n\", A_system)\n",
    "print(\"\\n Matrix after swapping third row with second row:\\n\", SwapRows(A_system, 1, 2))"
   ]
  },
  {
   "cell_type": "code",
   "execution_count": null,
   "id": "67e9541a-8104-461c-aebe-af0d3698af6e",
   "metadata": {},
   "outputs": [],
   "source": []
  }
 ],
 "metadata": {
  "kernelspec": {
   "display_name": "Python 3 (ipykernel)",
   "language": "python",
   "name": "python3"
  },
  "language_info": {
   "codemirror_mode": {
    "name": "ipython",
    "version": 3
   },
   "file_extension": ".py",
   "mimetype": "text/x-python",
   "name": "python",
   "nbconvert_exporter": "python",
   "pygments_lexer": "ipython3",
   "version": "3.11.7"
  }
 },
 "nbformat": 4,
 "nbformat_minor": 5
}
